{
 "cells": [
  {
   "cell_type": "code",
   "execution_count": 1,
   "metadata": {},
   "outputs": [],
   "source": [
    "from color_transfer import color_transfer\n",
    "\n",
    "import numpy as np\n",
    "\n",
    "import argparse\n",
    "\n",
    "import cv2"
   ]
  },
  {
   "cell_type": "code",
   "execution_count": 2,
   "metadata": {},
   "outputs": [],
   "source": [
    "def show_image(title, image, width = 300):\n",
    "\n",
    "\t# resize the image to have a constant width, just to\n",
    "\n",
    "\t# make displaying the images take up less screen real\n",
    "\n",
    "\t# estate\n",
    "\n",
    "\tr = width / float(image.shape[1])\n",
    "\n",
    "\tdim = (width, int(image.shape[0] * r))\n",
    "\n",
    "\tresized = cv2.resize(image, dim, interpolation = cv2.INTER_AREA)\n",
    "\n",
    "\n",
    "\n",
    "\t# show the resized image\n",
    "\n",
    "\tcv2.imshow(title, resized)"
   ]
  },
  {
   "cell_type": "code",
   "execution_count": 8,
   "metadata": {},
   "outputs": [
    {
     "ename": "SyntaxError",
     "evalue": "invalid syntax (<ipython-input-8-8512a2cadd7a>, line 3)",
     "output_type": "error",
     "traceback": [
      "\u001b[1;36m  File \u001b[1;32m\"<ipython-input-8-8512a2cadd7a>\"\u001b[1;36m, line \u001b[1;32m3\u001b[0m\n\u001b[1;33m    \"source\": \"C:\\\\Users\\\\RAHUL\\\\Downloads\\\\generated_image.jpg\"\u001b[0m\n\u001b[1;37m            ^\u001b[0m\n\u001b[1;31mSyntaxError\u001b[0m\u001b[1;31m:\u001b[0m invalid syntax\n"
     ]
    }
   ],
   "source": [
    "args = {\n",
    "    \"target\": \"C:\\\\Users\\\\RAHUL\\\\Desktop\\\\IMG_20191028_095653_206.jpg\"\n",
    "    \"source\": \"C:\\\\Users\\\\RAHUL\\\\Downloads\\\\generated_image.jpg\"\n",
    "}\n"
   ]
  },
  {
   "cell_type": "code",
   "execution_count": 22,
   "metadata": {},
   "outputs": [],
   "source": [
    "target = cv2.imread(\"C:\\\\Users\\\\RAHUL\\\\Desktop\\\\IMG_20191028_095653_206.jpg\")\n",
    "source = cv2.imread(\"C:\\\\Users\\\\RAHUL\\\\Downloads\\\\my_style.jpeg\" )\n",
    "roi = source[60:200,60:200] #using roi\n",
    "show_image(\"Source\", roi)\n",
    "\n",
    "show_image(\"Target\", target)\n",
    "\n",
    "cv2.waitKey(0)\n",
    "cv2.destroyAllWindows()"
   ]
  },
  {
   "cell_type": "code",
   "execution_count": 23,
   "metadata": {},
   "outputs": [],
   "source": [
    "transfer = color_transfer(source, target)"
   ]
  },
  {
   "cell_type": "code",
   "execution_count": 24,
   "metadata": {},
   "outputs": [],
   "source": [
    "show_image(\"Transfer\", transfer)\n",
    "\n",
    "show_image(\"Source\", source)\n",
    "\n",
    "show_image(\"Target\", target)\n",
    "\n",
    "cv2.waitKey(0)\n",
    "cv2.destroyAllWindows()"
   ]
  },
  {
   "cell_type": "code",
   "execution_count": null,
   "metadata": {},
   "outputs": [],
   "source": []
  }
 ],
 "metadata": {
  "kernelspec": {
   "display_name": "Python 3",
   "language": "python",
   "name": "python3"
  },
  "language_info": {
   "codemirror_mode": {
    "name": "ipython",
    "version": 3
   },
   "file_extension": ".py",
   "mimetype": "text/x-python",
   "name": "python",
   "nbconvert_exporter": "python",
   "pygments_lexer": "ipython3",
   "version": "3.7.4"
  }
 },
 "nbformat": 4,
 "nbformat_minor": 2
}
