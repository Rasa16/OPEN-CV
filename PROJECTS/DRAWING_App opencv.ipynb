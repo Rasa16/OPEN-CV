{
 "cells": [
  {
   "cell_type": "code",
   "execution_count": 1,
   "metadata": {},
   "outputs": [],
   "source": [
    "import numpy as np\n",
    "import cv2"
   ]
  },
  {
   "cell_type": "code",
   "execution_count": 7,
   "metadata": {},
   "outputs": [],
   "source": [
    "###GLOBAL VARIABLES\n",
    "canvas = np.ones([500,550,3],'uint8')*255\n",
    "radius = 3\n",
    "color = (0,255,0)\n",
    "pressed = False\n",
    "\n",
    "#click callback\n",
    "def click(event,x,y,flags,param):\n",
    "    global canvas,pressed\n",
    "    if event == cv2.EVENT_LBUTTONDOWN:\n",
    "        pressed = True\n",
    "        cv2.circle(canvas,(x,y),radius,color,-1)\n",
    "    elif event == cv2.EVENT_MOUSEMOVE and pressed==True:\n",
    "        cv2.circle(canvas,(x,y),radius,color,-1)\n",
    "    elif event == cv2.EVENT_LBUTTONUP:\n",
    "        pressed = False\n",
    "#Window intialising and callback assignment\n",
    "cv2.namedWindow(\"canvas\")\n",
    "cv2.setMouseCallback(\"canvas\",click)\n",
    "\n",
    "#forever draw loop\n",
    "while True:\n",
    "    cv2.imshow(\"canvas\",canvas)\n",
    "    \n",
    "    #keycapture every 1ms\n",
    "    ch = cv2.waitKey(1)\n",
    "    if ch & 0xFF == ord('q'):\n",
    "        break\n",
    "    elif ch & 0xFF == ord('b'):\n",
    "        color = (255,0,0)\n",
    "    elif ch & 0xFF == ord('r'):\n",
    "        color = (0,0,255)\n",
    "\n",
    "cv2.destroyAllWindows()\n",
    "    "
   ]
  },
  {
   "cell_type": "code",
   "execution_count": null,
   "metadata": {},
   "outputs": [],
   "source": []
  }
 ],
 "metadata": {
  "kernelspec": {
   "display_name": "Python 3",
   "language": "python",
   "name": "python3"
  },
  "language_info": {
   "codemirror_mode": {
    "name": "ipython",
    "version": 3
   },
   "file_extension": ".py",
   "mimetype": "text/x-python",
   "name": "python",
   "nbconvert_exporter": "python",
   "pygments_lexer": "ipython3",
   "version": "3.7.4"
  }
 },
 "nbformat": 4,
 "nbformat_minor": 2
}
