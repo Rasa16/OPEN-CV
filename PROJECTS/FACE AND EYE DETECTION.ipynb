{
 "cells": [
  {
   "cell_type": "code",
   "execution_count": 1,
   "metadata": {},
   "outputs": [],
   "source": [
    "import numpy as np\n",
    "import cv2"
   ]
  },
  {
   "cell_type": "code",
   "execution_count": 11,
   "metadata": {},
   "outputs": [],
   "source": [
    "###FACE DETECTION ON LIVE VIDEO\n",
    "cap = cv2.VideoCapture(0)\n",
    "path = \"F:\\\\STUDY MATERIAL\\\\opencv-master\\\\haarcascade_frontalface_default.xml\"\n",
    "\n",
    "face_cascade = cv2.CascadeClassifier(path)\n",
    "\n",
    "cv2.namedWindow(\"frame\")\n",
    "\n",
    "\n",
    "while(True):\n",
    "    ret,frame = cap.read()\n",
    "    gray = cv2.cvtColor(frame,cv2.COLOR_BGR2GRAY)\n",
    "    \n",
    "    faces = face_cascade.detectMultiScale(gray, scaleFactor = 1.05, minNeighbors= 5, minSize = (40,40))\n",
    "    \n",
    "    for (x,y,w,h) in faces:\n",
    "        cv2.rectangle(frame,(x,y),(x+w,y+h),(0,255,0),2)\n",
    "\n",
    "    cv2.imshow(\"frame\",frame)\n",
    "    \n",
    "    ch = cv2.waitKey(1)\n",
    "    \n",
    "    if ch & 0xFF== ord('q'):\n",
    "        break\n",
    "        \n",
    "cap.release()\n",
    "cv2.destroyAllWindows()"
   ]
  },
  {
   "cell_type": "code",
   "execution_count": 3,
   "metadata": {},
   "outputs": [
    {
     "name": "stdout",
     "output_type": "stream",
     "text": [
      "pressed 342 284\n"
     ]
    }
   ],
   "source": [
    "###TO DRAW CIRCLE ON LIVE VIDEO USING MOUSE\n",
    "cap = cv2.VideoCapture(0)\n",
    "\n",
    "color = (0,255,0)\n",
    "line_width = 3\n",
    "radius = 100\n",
    "point = (0,0)\n",
    "\n",
    "def click(event,x,y,flags,param):\n",
    "    global pressed,point\n",
    "    if event == cv2.EVENT_LBUTTONDOWN:\n",
    "        print(\"pressed\",x,y)\n",
    "        point = (x,y)\n",
    "\n",
    "cv2.namedWindow(\"frame\")\n",
    "cv2.setMouseCallback(\"frame\",click)\n",
    "\n",
    "while(True):\n",
    "    ret,frame = cap.read()\n",
    "    #cv2.resize(img,(0,0),fx=0.5,fy=0.5)\n",
    "    \n",
    "    cv2.circle(frame,point,radius,color,line_width)\n",
    "    cv2.imshow(\"frame\",frame)\n",
    "    \n",
    "    ch = cv2.waitKey(1)\n",
    "    \n",
    "    if ch & 0xFF== ord('q'):\n",
    "        break\n",
    "        \n",
    "cap.release()\n",
    "cv2.destroyAllWindows()"
   ]
  },
  {
   "cell_type": "code",
   "execution_count": 17,
   "metadata": {},
   "outputs": [],
   "source": [
    "###FACE AND EYE DETECTION ON LIVE VIDEO \n",
    "\n",
    "cap = cv2.VideoCapture(0)\n",
    "path = \"F:\\\\STUDY MATERIAL\\\\opencv-master\\\\haarcascade_frontalface_default.xml\"\n",
    "path1 = \"F:\\\\STUDY MATERIAL\\\\opencv-master\\\\haar-cascade-files-master\\\\haar-cascade-files-master\\\\haarcascade_eye.xml\"\n",
    "\n",
    "face_cascade = cv2.CascadeClassifier(path)\n",
    "eye_cascade = cv2.CascadeClassifier(path1)\n",
    "\n",
    "cv2.namedWindow(\"frame\")\n",
    "\n",
    "\n",
    "while(True):\n",
    "    ret,frame = cap.read()\n",
    "    gray = cv2.cvtColor(frame,cv2.COLOR_BGR2GRAY)\n",
    "    \n",
    "    eyes = eye_cascade.detectMultiScale(gray, scaleFactor = 1.02, minNeighbors= 20, minSize = (10,10))\n",
    "    faces = face_cascade.detectMultiScale(gray, scaleFactor = 1.05, minNeighbors= 5, minSize = (40,40))\n",
    "    \n",
    "    for (x,y,w,h) in faces:\n",
    "        cv2.rectangle(frame,(x,y),(x+w,y+h),(0,255,0),2)\n",
    "        \n",
    "    for (x,y,w,h) in eyes:\n",
    "###Convert to circle bcoz in documentation rectangle is formed..\n",
    "        xc = (x+ x+w)/2\n",
    "        yc = (y+ y+h)/2\n",
    "        radius = w/2               ##or h/2\n",
    "        cv2.circle(frame,(int (xc),int (yc)),int (radius),(255,0,0),2)\n",
    "\n",
    "    cv2.imshow(\"frame\",frame)\n",
    "    \n",
    "    ch = cv2.waitKey(1)\n",
    "    \n",
    "    if ch & 0xFF== ord('q'):\n",
    "        break\n",
    "        \n",
    "cap.release()\n",
    "cv2.destroyAllWindows()"
   ]
  },
  {
   "cell_type": "code",
   "execution_count": null,
   "metadata": {},
   "outputs": [],
   "source": []
  },
  {
   "cell_type": "code",
   "execution_count": null,
   "metadata": {},
   "outputs": [],
   "source": []
  }
 ],
 "metadata": {
  "kernelspec": {
   "display_name": "Python 3",
   "language": "python",
   "name": "python3"
  },
  "language_info": {
   "codemirror_mode": {
    "name": "ipython",
    "version": 3
   },
   "file_extension": ".py",
   "mimetype": "text/x-python",
   "name": "python",
   "nbconvert_exporter": "python",
   "pygments_lexer": "ipython3",
   "version": "3.7.4"
  }
 },
 "nbformat": 4,
 "nbformat_minor": 2
}
